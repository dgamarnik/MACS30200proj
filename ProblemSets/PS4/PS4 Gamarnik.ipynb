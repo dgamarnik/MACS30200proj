{
 "cells": [
  {
   "cell_type": "markdown",
   "metadata": {},
   "source": [
    "## PS4\n",
    "### Dan Gamarnik"
   ]
  },
  {
   "cell_type": "code",
   "execution_count": 20,
   "metadata": {},
   "outputs": [],
   "source": [
    "import scipy.stats as sts\n",
    "import numpy as np\n",
    "import matplotlib.pyplot as plt"
   ]
  },
  {
   "cell_type": "code",
   "execution_count": 21,
   "metadata": {},
   "outputs": [],
   "source": [
    "T = 500\n",
    "sigma = 0.7\n",
    "unif_vec = sts.uniform.rvs(loc=0, scale=1, size=T, random_state=25)\n",
    "\n",
    "eps_vec = sts.norm.ppf(unif_vec, loc=0, scale=sigma)"
   ]
  },
  {
   "cell_type": "code",
   "execution_count": 22,
   "metadata": {},
   "outputs": [],
   "source": [
    "mu = 11.4\n",
    "rho = 0.85"
   ]
  },
  {
   "cell_type": "markdown",
   "metadata": {},
   "source": [
    "### A"
   ]
  },
  {
   "cell_type": "code",
   "execution_count": 23,
   "metadata": {},
   "outputs": [],
   "source": [
    "z_vec = np.empty(T)\n",
    "\n",
    "for i in range(T):\n",
    "    if i == 0:\n",
    "        z = rho\n",
    "    else:\n",
    "        z = rho*z_vec[i-1] + (1-rho)*mu + eps_vec[i]\n",
    "    \n",
    "    z_vec[i] = z\n",
    "z_orig_vec = z_vec"
   ]
  },
  {
   "cell_type": "code",
   "execution_count": 24,
   "metadata": {},
   "outputs": [
    {
     "data": {
      "image/png": "[encoded data removed]",
      "text/plain": [
       "<matplotlib.figure.Figure at 0x229f74dbef0>"
      ]
     },
     "metadata": {},
     "output_type": "display_data"
    }
   ],
   "source": [
    "plt.plot(np.arange(T), z_vec)\n",
    "plt.xlabel('Time step')\n",
    "plt.ylabel('z value')\n",
    "plt.title('Evolution of z process through time')\n",
    "plt.show()"
   ]
  },
  {
   "cell_type": "markdown",
   "metadata": {},
   "source": [
    "### B"
   ]
  },
  {
   "cell_type": "code",
   "execution_count": 25,
   "metadata": {},
   "outputs": [],
   "source": [
    "z_vals = np.array( [mu-3*sigma + 1.5*sigma*x for x in range(5)] )\n",
    "assert z_vals[2] == 11.4"
   ]
  },
  {
   "cell_type": "code",
   "execution_count": 26,
   "metadata": {},
   "outputs": [
    {
     "name": "stdout",
     "output_type": "stream",
     "text": [
      "z_vals vector =  [ 9.3  10.35 11.4  12.45 13.5 ]\n"
     ]
    }
   ],
   "source": [
    "print(\"z_vals vector = \", z_vals)\n"
   ]
  },
  {
   "cell_type": "markdown",
   "metadata": {},
   "source": [
    "### C"
   ]
  },
  {
   "cell_type": "code",
   "execution_count": 27,
   "metadata": {},
   "outputs": [],
   "source": [
    "z_cuts = 0.5 * z_vals[:-1] + 0.5 * z_vals[1:]"
   ]
  },
  {
   "cell_type": "code",
   "execution_count": 28,
   "metadata": {},
   "outputs": [
    {
     "name": "stdout",
     "output_type": "stream",
     "text": [
      "[ 9.825 10.875 11.925 12.975]\n"
     ]
    }
   ],
   "source": [
    "print(z_cuts)"
   ]
  },
  {
   "cell_type": "code",
   "execution_count": 29,
   "metadata": {},
   "outputs": [],
   "source": [
    "# bin the z process. Given python indexes at 0, use bins numbered 0,1,2,3,4\n",
    "z_bins = np.empty(T)\n",
    "\n",
    "for i in range(T):\n",
    "    if z_vec[i] <= z_cuts[0]:\n",
    "        z_bins[i] = 0\n",
    "    \n",
    "    elif z_vec[i] <= z_cuts[1]:\n",
    "        z_bins[i] = 1\n",
    "    \n",
    "    elif z_vec[i] <= z_cuts[2]:\n",
    "        z_bins[i] = 2\n",
    "        \n",
    "    elif z_vec[i] <= z_cuts[3]:\n",
    "        z_bins[i] = 3\n",
    "        \n",
    "    else:\n",
    "        z_bins[i] = 4\n",
    "       "
   ]
  },
  {
   "cell_type": "code",
   "execution_count": 30,
   "metadata": {},
   "outputs": [],
   "source": [
    "# Create a count matrix which we can then normalize to create transition matrix\n",
    "trans_counts = np.full((5,5), 0)\n",
    "\n",
    "for i in range(T):\n",
    "    cur_bin = int(z_bins[i])\n",
    "    if i == 0:\n",
    "        continue\n",
    "    assert i >= 1\n",
    "    \n",
    "    prev_bin = int(z_bins[i-1])\n",
    "    \n",
    "    #print(\"At bin {} from bin {}\".format(cur_bin, prev_bin))\n",
    "    trans_counts[prev_bin][cur_bin] += 1\n",
    "\n",
    "assert np.sum(trans_counts) == T-1"
   ]
  },
  {
   "cell_type": "code",
   "execution_count": 31,
   "metadata": {},
   "outputs": [
    {
     "name": "stdout",
     "output_type": "stream",
     "text": [
      "Empirical transition matrix is: \n",
      "\n",
      " [[0.75757576 0.21212121 0.03030303 0.         0.        ]\n",
      " [0.09821429 0.51785714 0.33928571 0.04464286 0.        ]\n",
      " [0.03184713 0.22292994 0.47770701 0.23566879 0.03184713]\n",
      " [0.         0.04273504 0.34188034 0.5042735  0.11111111]\n",
      " [0.         0.         0.04255319 0.34042553 0.61702128]]\n"
     ]
    }
   ],
   "source": [
    "# Now normalize the transition count matrix to estimate the transition matrix\n",
    "P_hat = trans_counts / ( trans_counts.sum(axis=1).reshape(5,1) )\n",
    "print(\"Empirical transition matrix is: \\n\\n\", P_hat)"
   ]
  },
  {
   "cell_type": "markdown",
   "metadata": {},
   "source": [
    "### D"
   ]
  },
  {
   "cell_type": "code",
   "execution_count": 32,
   "metadata": {},
   "outputs": [
    {
     "name": "stdout",
     "output_type": "stream",
     "text": [
      "Prob of going from state 3 to state 5 over 2 steps is:  [0.06104938]\n"
     ]
    }
   ],
   "source": [
    "import numpy.linalg as LA\n",
    "\n",
    "init_state = np.array([0, 0, 1, 0, 0]).reshape(5,1)\n",
    "prob_two_steps = LA.matrix_power(P_hat.T, 2) @ init_state\n",
    "print(\"Prob of going from state 3 to state 5 over 2 steps is: \", prob_two_steps[4])"
   ]
  },
  {
   "cell_type": "markdown",
   "metadata": {},
   "source": [
    "### E"
   ]
  },
  {
   "cell_type": "code",
   "execution_count": 33,
   "metadata": {},
   "outputs": [],
   "source": [
    "# Let's iteratively left-multiply by P_hat until convergence\n",
    "# Define convergence to be when applying P_hat doesn't change the resulting vector \n",
    "        # by more than some tolerance level, with respect to the L2-Euclidean norm\n",
    "cur_state = np.array([0, 0, 1, 0, 0]).reshape(5,1)\n",
    "tolerance = 0.00001\n",
    "change = 1\n",
    "iters = 0\n",
    "\n",
    "while change > tolerance:\n",
    "    next_state = P_hat.T @ cur_state \n",
    "    change = LA.norm(next_state - cur_state)\n",
    "    \n",
    "    cur_state = next_state\n",
    "    iters += 1"
   ]
  },
  {
   "cell_type": "code",
   "execution_count": 34,
   "metadata": {},
   "outputs": [
    {
     "name": "stdout",
     "output_type": "stream",
     "text": [
      "After 34 time-steps state dist converges to:\n",
      " [[0.13224274]\n",
      " [0.224439  ]\n",
      " [0.31463475]\n",
      " [0.23448444]\n",
      " [0.09419908]]\n",
      "\n",
      " tolerance =  1e-05\n"
     ]
    }
   ],
   "source": [
    "print(\"After {} time-steps state dist converges to:\\n\".format(iters), next_state)\n",
    "print(\"\\n tolerance = \", tolerance)"
   ]
  },
  {
   "cell_type": "markdown",
   "metadata": {},
   "source": [
    "### F"
   ]
  },
  {
   "cell_type": "code",
   "execution_count": 35,
   "metadata": {},
   "outputs": [],
   "source": [
    "disc_z = np.empty(T)"
   ]
  },
  {
   "cell_type": "code",
   "execution_count": 36,
   "metadata": {},
   "outputs": [],
   "source": [
    "z_0 = z_vals[2]\n",
    "z_vec = np.empty(T)\n",
    "z_t = z_0\n",
    "zt_ind = 1\n",
    "for t_ind in range(T):\n",
    "    ztp1_ind = np.argwhere(unif_vec[t_ind] <= np.cumsum(P_hat[zt_ind, :])).min()\n",
    "    \n",
    "    z_tp1 = z_vals[ztp1_ind]\n",
    "    z_vec[t_ind] = z_tp1\n",
    "    \n",
    "    z_t = z_tp1\n",
    "    zt_ind = ztp1_ind"
   ]
  },
  {
   "cell_type": "code",
   "execution_count": 37,
   "metadata": {},
   "outputs": [
    {
     "data": {
      "image/png": "[encoded data removed]",
      "text/plain": [
       "<matplotlib.figure.Figure at 0x229f855e048>"
      ]
     },
     "metadata": {},
     "output_type": "display_data"
    }
   ],
   "source": [
    "plt.plot(np.arange(T), z_orig_vec, color='b', label='Cont process')\n",
    "plt.plot(np.arange(T), z_vec, color='r', label='Markov process')\n",
    "plt.xlabel('Time step')\n",
    "plt.ylabel('z value')\n",
    "plt.title('Evolution of z process through time')\n",
    "plt.legend()\n",
    "plt.show()"
   ]
  },
  {
   "cell_type": "code",
   "execution_count": null,
   "metadata": {},
   "outputs": [],
   "source": []
  }
 ],
 "metadata": {
  "kernelspec": {
   "display_name": "Python 3",
   "language": "python",
   "name": "python3"
  },
  "language_info": {
   "codemirror_mode": {
    "name": "ipython",
    "version": 3
   },
   "file_extension": ".py",
   "mimetype": "text/x-python",
   "name": "python",
   "nbconvert_exporter": "python",
   "pygments_lexer": "ipython3",
   "version": "3.6.4"
  }
 },
 "nbformat": 4,
 "nbformat_minor": 2
}
